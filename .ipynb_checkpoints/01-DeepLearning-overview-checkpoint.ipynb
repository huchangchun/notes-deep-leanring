{
 "cells": [
  {
   "cell_type": "markdown",
   "metadata": {},
   "source": [
    "## 深度学习应用方向"
   ]
  },
  {
   "cell_type": "markdown",
   "metadata": {},
   "source": [
    "- 一、语音识别\n",
    "      \n",
    "- 二、图像处理\n",
    "     - 大规模（大数据）图片识别（聚类/分类）\n",
    "     - 基于图片的搜索服务\n",
    "     - 图片内容识别（具体图片内容信息）\n",
    "- 三、NLP处理\n",
    "    \n",
    "    - 应用领域\n",
    "       - 机器翻译\n",
    "       - 聊天机器人\n",
    "       - 知识图谱\n",
    "       - 写作\n",
    "       - 命名识别\n",
    "       - 句子相识度计算\n",
    "       - 语音识别  \n",
    "       - 实现方式\n",
    "         - 分词\n",
    "         - 意图分析\n",
    "- 四、游戏、机器人等"
   ]
  },
  {
   "cell_type": "markdown",
   "metadata": {},
   "source": [
    "## 常见的机器学习应用领域\n",
    "- 聚类\n",
    "- 分类\n",
    "- 回归\n",
    "\n",
    "分类和回归的本质区别：\n",
    "- 回归：精准的值\n",
    "- 分类：区间性的值"
   ]
  },
  {
   "cell_type": "markdown",
   "metadata": {},
   "source": [
    "## 掌握三大网络\n",
    "\n",
    "- CNN :卷积神经网络\n",
    "- RNN :递归神经网络\n",
    "- DNN :深度神经网络\n",
    "    - 增加中间层（隐层）的神经网络叫做深度神经网络"
   ]
  },
  {
   "cell_type": "markdown",
   "metadata": {},
   "source": [
    "## 环境安装：\n",
    "pytorch安装：windows ,python 3.6, annacond安装，无gpu\n",
    "- pip install http://download.pytorch.org/whl/cpu/torch-0.4.0-cp36-cp36m-win_amd64.whl \n",
    "- pip install torchvision window python3.6  :用于可视化，可不装\n",
    "\n",
    "安装后，import torch ，没有报错就成功了\n",
    "tensorflow安装：\n",
    "https://tensorflow.google.cn/install/install_windows?hl=zh-cn\n",
    "打开python命令行：\n",
    "- CPU版本：pip3 install -i https://pypi.tuna.tsinghua.edu.cn/simple --upgrade tensorflow\n",
    "- GPU版本：pip3 install -i https://pypi.tuna.tsinghua.edu.cn/simple --upgrade tensorflow-gpu\n",
    "tensorflow环境验证：\n",
    "在 Python 交互式 shell 中输入以下几行简短的程序代码：\n",
    "\n",
    "- import tensorflow as tf\n",
    "- hello = tf.constant('Hello, TensorFlow!')\n",
    "- sess = tf.Session()\n",
    "- print(sess.run(hello))\n"
   ]
  },
  {
   "cell_type": "markdown",
   "metadata": {},
   "source": [
    "### 顶级论文网站：\n",
    "- cvpr ：图像处理\n",
    "- acl  ：自然语音\n",
    "- iAAA ：人工智能联合会议"
   ]
  },
  {
   "cell_type": "code",
   "execution_count": null,
   "metadata": {
    "collapsed": true
   },
   "outputs": [],
   "source": []
  }
 ],
 "metadata": {
  "kernelspec": {
   "display_name": "Python 3",
   "language": "python",
   "name": "python3"
  },
  "language_info": {
   "codemirror_mode": {
    "name": "ipython",
    "version": 3
   },
   "file_extension": ".py",
   "mimetype": "text/x-python",
   "name": "python",
   "nbconvert_exporter": "python",
   "pygments_lexer": "ipython3",
   "version": "3.6.2"
  }
 },
 "nbformat": 4,
 "nbformat_minor": 2
}
