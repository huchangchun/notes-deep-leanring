{
 "cells": [
  {
   "cell_type": "markdown",
   "metadata": {
    "collapsed": true
   },
   "source": [
    "为了研究神经网络，我们必须对网络有个直观的认识"
   ]
  },
  {
   "cell_type": "markdown",
   "metadata": {},
   "source": [
    "### 一、基本变换：层"
   ]
  },
  {
   "cell_type": "markdown",
   "metadata": {},
   "source": [
    "神经网络是由一层一层构建的，那么每层究竟在做什么？\n",
    "- 数学公式：\n",
    "$ \\overrightarrow{y} = \\alpha (W.\\overrightarrow{x}+b)$\n",
    "\n",
    "其中$\\overrightarrow{x}$是输入向量，$\\overrightarrow{y}$是输出向量，$\\overrightarrow{b}$是偏移向量，$W$是权重矩阵，$\\alpha$是激活函数如：$sigmod$。每一层仅仅是把输入$\\overrightarrow{x}$经过如此简单的操作得到$\\overrightarrow{y}$。\n",
    "- 数学理解：\n",
    "通过如下5中对输入空间（输入向量的集合）的操作，完成$输入空间$->$输出空间$的变换（矩阵的行空间到列空间）.注：用“空间”二字的原因是被分类的并不是单个事物，而是一类事物。空间是指这类事物所有个体的集合。\n",
    "    \n",
    "    - 1.升维/降维\n",
    "    - 2.放大/缩小\n",
    "    - 3.旋转\n",
    "    - 4.平移\n",
    "    - 5.‘弯曲’\n",
    "    \n",
    "这5种操作中，1.2.3操作由$W.\\overrightarrow{x}$完成,4的操作是由+$\\overrightarrow{b}$完成，5的操作则是由$\\alpha()$来实现。\n",
    "\n",
    "每层神经网络的数学理解：用线性变换跟随着非线性变化，将输入空间投向一个空间。\n",
    "- 物理理解：\n",
    "对$W.\\overrightarrow{x}$的理解就是通过组合形成新物质，$\\alpha()$又符合了我们所处的世界都是非线性的特点。\n",
    "\n",
    "   - 情景：\n",
    "   $\\overrightarrow{x}$是二维向量，维度是碳原子和氧原子的数量 $\\begin{bmatrix}C\\\\O\\end{bmatrix}$,数值定为 $\\begin{bmatrix}1\\\\1\\end{bmatrix}$,若确定$\\overrightarrow{y}$是三维向量，就会形成如下网络的形状（神经网络的每个节点表示一个维度）。通过改变权重的值，可以获得若干个不同物质，右侧的节点数决定了想要获得多少种不同的新物质。（即矩阵的维度（行数））"
   ]
  },
  {
   "cell_type": "markdown",
   "metadata": {},
   "source": [
    "![co2](./data/CO2.jpg)\n",
    " - 1.如果权重$W$的数值为$\\begin{bmatrix}1 & 2\\\\0 & 3\\\\1 & 1\\end{bmatrix}$,那么网格输出的$\\overrightarrow{y}$就会是三个新物质:$CO_{2}$,$O_{3}$,$CO$\n",
    " \n",
    "$$\\begin{bmatrix}1 & 2\\\\0 & 3\\\\1 & 1\\end{bmatrix}\\begin{bmatrix}C \\\\ O\\end{bmatrix} = \\begin{bmatrix}CO_{2} \\\\ O_{3}\\\\CO\\end{bmatrix}$$\n",
    " - 2.如果权重$W$的数值为$\\begin{bmatrix}1 & 2\\\\0 & 3\\end{bmatrix}$,那么网格输出的$\\overrightarrow{y}$就会是二个新物质:$CO_{2}$,$O_{3}$\n",
    " \n",
    "$$\\begin{bmatrix}1 & 2\\\\0 & 3\\end{bmatrix}\\begin{bmatrix}C \\\\ O\\end{bmatrix} = \\begin{bmatrix}CO_{2} \\\\ O_{3}\\end{bmatrix}$$\n",
    "\n",
    " - 3.如果希望通过层网络$\\begin{bmatrix}C\\\\O\\end{bmatrix}$转变为$\\begin{bmatrix}CO_{2}\\\\O_{3}\\\\CO\\end{bmatrix}$空间，那么网络的学习过程就是将$W$的数值变成尽可能接近$\\begin{bmatrix}1 & 2\\\\0 & 3\\\\1 & 1\\end{bmatrix}$的过程，如果再加一层就是通过组合$\\begin{bmatrix}CO_{2}\\\\O_{3}\\\\CO\\end{bmatrix}$形成若干更高层的物质。\n",
    " - 4.每层神经网络的物理理解：通过现有的不同物质的组合形成新物质。\n",
    " "
   ]
  },
  {
   "cell_type": "code",
   "execution_count": null,
   "metadata": {
    "collapsed": true
   },
   "outputs": [],
   "source": []
  },
  {
   "cell_type": "code",
   "execution_count": null,
   "metadata": {
    "collapsed": true
   },
   "outputs": [],
   "source": []
  }
 ],
 "metadata": {
  "kernelspec": {
   "display_name": "Python 3",
   "language": "python",
   "name": "python3"
  },
  "language_info": {
   "codemirror_mode": {
    "name": "ipython",
    "version": 3
   },
   "file_extension": ".py",
   "mimetype": "text/x-python",
   "name": "python",
   "nbconvert_exporter": "python",
   "pygments_lexer": "ipython3",
   "version": "3.6.2"
  }
 },
 "nbformat": 4,
 "nbformat_minor": 2
}
