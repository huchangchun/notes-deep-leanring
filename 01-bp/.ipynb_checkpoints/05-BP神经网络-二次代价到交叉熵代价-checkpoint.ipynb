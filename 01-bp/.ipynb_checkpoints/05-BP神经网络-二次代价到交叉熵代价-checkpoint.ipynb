{
 "cells": [
  {
   "cell_type": "markdown",
   "metadata": {},
   "source": [
    "### BP神经网络-从二次代价函数（Quadratic cost）到交叉熵（cross-entropy cost）代价函数"
   ]
  },
  {
   "cell_type": "markdown",
   "metadata": {},
   "source": [
    "通过下文的阐述我们可以获得以下信息：\n",
    "- 1.反向传播算法是一个计算框架\n",
    "\n",
    "    既然是一个计算框架，便于代价函数的具体形式无关（无论是二次代价还是交叉熵代价函数），只要能将预测的误差映射为一个标量，\n",
    "    当然这一映射要满足特定的物理意义）。正因为如此，我们可将任何满足特定条件的代价函数嵌入到反向传播的计算过程。\n",
    "- 2.不同代价函数在计算上的不同\n",
    "\n",
    "    不同代价函数的不同就在于计算单样本的预测误差对最后一层神经元的输入（z）的微分形式不同，也即$\\delta (L)$不同。\n",
    "  \n",
    "我们先来回顾BP神经网络反向传播过程：\n",
    "\n",
    "- 正向传播，计算各层各个神经元的输入与输出，并记录之：\n",
    "    \n",
    "    根据权重和偏置的初始化值前向计算（feedforward）各个layer的各个neuron的输入（对应于$\\mathcal z$）与输出（又叫激活值，activation，简记为$\\alpha$）\n",
    "    向量形式：\n",
    "    \n",
    "    $$\\begin{aligned}\n",
    "     z^{l} =& \\mathcal {w} ^{l}\\cdot x ^{l-1} + b^{l}\\\\\n",
    "    \\alpha ^{l} = &\\sigma(z^{l}) \\space\\space\\space\\space (1.1)\n",
    "    \\end{aligned}\n",
    "    $$\n",
    "- 反向传播的起点，计算最后一层的$\\delta ^{L}$\n",
    "\n",
    "    首先在当前网络状态下（$w,b$给定）下，根据feedforward($\\alpha = \\sigma(w\\cdot\\alpha+b)$,预测当前样本x的label值，再根据代价函数（这里不指定具体形式，Cost,简记$C = (\\alpha,y),\\alpha = \\sigma(z),\\alpha$是activation激活值的缩写)，计算对于神经网络的最后一层，代价函数关于最后一层的输入$z$的导数：\n",
    "    \n",
    "    $$\n",
    "    \\delta^{L} = \\frac{\\partial C(\\alpha,y)}{\\partial z^{L}}\n",
    "    $$\n",
    " \n",
    "L表示整个神经网络拓扑结构的层数，在代价函数为二次代价（Quadratic cost）的情况下：\n",
    "$$\n",
    "\\begin{aligned}\n",
    "     C(\\alpha,y) = &\\frac{1}{2}\\parallel \\alpha-y\\parallel^2\\\\\n",
    "     =&\\frac{1}{2}\\parallel \\sigma(z^{L})-y\\parallel^2\\\\\n",
    "     \\delta ^{L} =& \\frac{\\partial C(\\alpha,y)}{\\partial z^{L}}\\\\\n",
    "     =&(\\sigma(z^{L})-y)\\cdot \\sigma^{'}(z^{L})  \\space\\space\\space\\space (2.1)\\\\ \n",
    "     \\end{aligned}\n",
    "$$\n",
    "\n",
    "代价函数为交叉熵（cross-entropy）的情形（$\\alpha = \\sigma(z^{L})$）:\n",
    "     \n",
    "$$\n",
    "\\begin{aligned}\n",
    "     C(\\alpha,y) = &-\\left(yln(\\alpha)+(1-y)ln(1-\\alpha)\\right)\\\\\n",
    "     \\delta ^{L} =& \\frac{\\partial C(\\alpha,y)}{\\partial z^{L}}\\\\\n",
    "     =&-\\left(\\frac{y}{\\sigma(z^{L})}-\\frac{1-y}{1-\\sigma(z^L)}\\right)\\cdot \\sigma^{'}(z^{L}) \\space\\space\\space\\space (2.2)\n",
    "     \\end{aligned} \n",
    "$$\n",
    "\n",
    "因为$\\sigma(z) = \\frac{1}{1+e^{-z}}$,其关于$z$的导数为：\n",
    "    \n",
    "$$\n",
    "\\sigma^{'}(z) = \\sigma(z)(1-\\sigma(z)),进一步化简(2.2):\n",
    "$$\n",
    "\n",
    "$$\\begin{aligned}\n",
    "\\delta ^{L} = &-(y\\cdot(1-\\sigma(z^{L})) - (1-y)\\cdot\\sigma(z^{L}))\\\\\n",
    "=&\\sigma(z^{L}) - y\\\\\n",
    "=&\\alpha^{L} - y\n",
    "\\end{aligned}\n",
    "$$\n",
    "\n",
    "对比两种代价函数下的$\\delta^{L}$，我们发现$\\sigma^{'}z^{L}$这一项神奇的消失了，有没有特殊的意义呢？我们来观察$\\sigma(z) = \\frac{1}{1+e^{-z}}$这一著名的sigmoid函数："
   ]
  },
  {
   "cell_type": "code",
   "execution_count": 6,
   "metadata": {},
   "outputs": [
    {
     "data": {
      "image/png": "[encoded data removed]",
      "text/plain": [
       "<matplotlib.figure.Figure at 0x702c860>"
      ]
     },
     "metadata": {},
     "output_type": "display_data"
    }
   ],
   "source": [
    "%matplotlib inline\n",
    "import numpy as np\n",
    "def sigmoid(x):\n",
    "    return 1/(1+np.exp(-x))\n",
    "import matplotlib.pyplot as plt\n",
    "x = np.arange(-10,10,0.1)\n",
    "y = [sigmoid(i) for i in x]\n",
    "plt.figure()\n",
    "plt.title(r\"$\\sigma(z)$\")\n",
    "plt.plot(x,y)\n",
    "plt.grid(True)\n",
    "plt.show()"
   ]
  },
  {
   "cell_type": "markdown",
   "metadata": {},
   "source": [
    "如上图，在$\\sigma(z)$逼近0或1时，变化率$(\\sigma^{'}(z))$越来越小，\n",
    "呈现一种饱和状态（saturation)，当$\\sigma^{'}(z)$变化率减慢，也就\n",
    "意味着$\\delta^{L}$变化率减慢，也就意味着学习率在下降（当然是在同等\n",
    "learing rate：$\\eta$的前提下）。"
   ]
  },
  {
   "cell_type": "markdown",
   "metadata": {},
   "source": [
    "#### 所以，将代价函数换成交叉熵，便避免了因$(\\sigma^{'}(z))$饱和而带来的学习率的下降的情况，当然这种替换仅对sigmoid型的激励函数有效。"
   ]
  },
  {
   "cell_type": "markdown",
   "metadata": {},
   "source": [
    "参考：https://blog.csdn.net/lanchunhui/article/details/50086025\n",
    "\n",
    "https://matplotlib.org/users/mathtext.html#symbols"
   ]
  },
  {
   "cell_type": "code",
   "execution_count": null,
   "metadata": {
    "collapsed": true
   },
   "outputs": [],
   "source": []
  }
 ],
 "metadata": {
  "kernelspec": {
   "display_name": "Python 3",
   "language": "python",
   "name": "python3"
  },
  "language_info": {
   "codemirror_mode": {
    "name": "ipython",
    "version": 3
   },
   "file_extension": ".py",
   "mimetype": "text/x-python",
   "name": "python",
   "nbconvert_exporter": "python",
   "pygments_lexer": "ipython3",
   "version": "3.6.2"
  }
 },
 "nbformat": 4,
 "nbformat_minor": 2
}
