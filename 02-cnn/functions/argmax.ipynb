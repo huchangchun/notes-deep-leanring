{
 "cells": [
  {
   "cell_type": "code",
   "execution_count": 7,
   "metadata": {},
   "outputs": [
    {
     "name": "stdout",
     "output_type": "stream",
     "text": [
      "[4 4 1]\n",
      "[0 4 1]\n",
      "[2 1]\n",
      "correct_pre: [False  True  True]\n",
      "accuracy: [0. 1. 1.]\n",
      "0.6666667\n"
     ]
    }
   ],
   "source": [
    "import tensorflow as tf\n",
    "import numpy as np\n",
    "\n",
    "\"\"\"\n",
    "tf.argmax(vector, 1)：返回的是vector中的最大值的索引号，\n",
    "如果vector是一个向量，那就返回一个值，如果是一个矩阵，那就返回一个向量，\n",
    "这个向量的每一个维度都是相对应矩阵行的最大值元素的索引号。\n",
    "在lstm项目中我们用argmax配合equal和cast以及reduce_mean来求准确率\n",
    "\n",
    "\"\"\"\n",
    "A = [[1,3,4,5,6],[1,3,4,5,6],[1,5,4,2,1]]\n",
    "B = [[6,5,4,3,2],[1,5,4,3,6],[2,5,4,3,2]]\n",
    "C = [[1,3,4],[2,4,1]]\n",
    "\n",
    "with tf.Session() as sess:\n",
    "    print(sess.run(tf.argmax(A,1)))\n",
    "    print(sess.run(tf.argmax(B,1)))\n",
    "    print(sess.run(tf.argmax(C,1)))\n",
    "    correct_pre = sess.run(tf.equal(tf.argmax(A,1),tf.argmax(B,1)))\n",
    "    accuracy = sess.run(tf.cast(correct_pre,\"float\")) #bool隐射为float\n",
    "    print(\"correct_pre:\",correct_pre)\n",
    "    print(\"accuracy:\",accuracy)\n",
    "    print(sess.run(tf.reduce_mean(accuracy)))"
   ]
  },
  {
   "cell_type": "code",
   "execution_count": null,
   "metadata": {
    "collapsed": true
   },
   "outputs": [],
   "source": []
  }
 ],
 "metadata": {
  "kernelspec": {
   "display_name": "Python 3",
   "language": "python",
   "name": "python3"
  },
  "language_info": {
   "codemirror_mode": {
    "name": "ipython",
    "version": 3
   },
   "file_extension": ".py",
   "mimetype": "text/x-python",
   "name": "python",
   "nbconvert_exporter": "python",
   "pygments_lexer": "ipython3",
   "version": "3.6.2"
  }
 },
 "nbformat": 4,
 "nbformat_minor": 2
}
