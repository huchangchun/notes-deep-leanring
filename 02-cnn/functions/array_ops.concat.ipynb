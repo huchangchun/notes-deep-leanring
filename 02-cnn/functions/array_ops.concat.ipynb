{
 "cells": [
  {
   "cell_type": "code",
   "execution_count": 3,
   "metadata": {},
   "outputs": [
    {
     "name": "stdout",
     "output_type": "stream",
     "text": [
      "Tensor(\"concat:0\", shape=(2, 9), dtype=int32)\n",
      "[[  1  12   8  12  10  20   3  33 123]\n",
      " [  3   4   6   7  30  40  50  12  12]]\n"
     ]
    }
   ],
   "source": [
    "\"\"\"\n",
    "gate_inputs = math_ops.matmul(\n",
    "        array_ops.concat([inputs, h], 1), self._kernel) #input(?,28) h (?,256) kernel(284,1024) \n",
    "    gate_inputs = nn_ops.bias_add(gate_inputs, self._bias) #(?,1024)\n",
    "    LSTM中有一段将input和隐层按第二维度拼接\n",
    "\"\"\"\n",
    "import tensorflow as tf\n",
    "from tensorflow.python.ops import array_ops\n",
    "a = tf.constant([[1,12,8,12],[3,4,6,7]])\n",
    "b = tf.constant([[10,20,3,33,123],[30,40,50,12,12]])\n",
    "ab = array_ops.concat([a,b],1) #[m,n],[m,k] ,concat: [m,a+b]\n",
    "with tf.Session() as sess:\n",
    "    print(ab)\n",
    "    print(ab.eval())\n",
    "    \n",
    "    \"\"\"\n",
    "    Tensor(\"concat:0\", shape=(2, 9), dtype=int32)\n",
    "[[  1  12   8  12  10  20   3  33 123]\n",
    " [  3   4   6   7  30  40  50  12  12]]\n",
    "    \n",
    "    \"\"\""
   ]
  },
  {
   "cell_type": "code",
   "execution_count": null,
   "metadata": {
    "collapsed": true
   },
   "outputs": [],
   "source": []
  }
 ],
 "metadata": {
  "kernelspec": {
   "display_name": "Python 3",
   "language": "python",
   "name": "python3"
  },
  "language_info": {
   "codemirror_mode": {
    "name": "ipython",
    "version": 3
   },
   "file_extension": ".py",
   "mimetype": "text/x-python",
   "name": "python",
   "nbconvert_exporter": "python",
   "pygments_lexer": "ipython3",
   "version": "3.6.2"
  }
 },
 "nbformat": 4,
 "nbformat_minor": 2
}
