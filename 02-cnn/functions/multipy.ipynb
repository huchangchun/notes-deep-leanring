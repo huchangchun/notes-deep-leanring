{
 "cells": [
  {
   "cell_type": "code",
   "execution_count": 7,
   "metadata": {},
   "outputs": [
    {
     "name": "stdout",
     "output_type": "stream",
     "text": [
      "[[ 1  4  9 16 25]]\n",
      "[[55]]\n",
      "[[55]]\n"
     ]
    }
   ],
   "source": [
    "\"\"\"\n",
    "multipy,*,matul区别\n",
    "对于矩阵而言，multipy是矩阵对应元素相乘（数量积），两个矩阵必须维度一致，相乘后维度保持不变\n",
    "而np.matmul()与np.dot()相当于矩阵乘法（内积），行和列必须满足乘法规则\n",
    "\n",
    "\"\"\"\n",
    "import numpy as np\n",
    "a = np.mat([[1,2,3,4,5]])\n",
    "b = np.mat([[1,2,3,4,5]])\n",
    "c = np.mat([[1],[2],[3],[4],[5]])\n",
    "d = np.multiply(a,b)\n",
    "e = np.dot(a,c)\n",
    "f = np.matmul(a,c)\n",
    "print(d)\n",
    "print(e)\n",
    "print(f)"
   ]
  },
  {
   "cell_type": "code",
   "execution_count": null,
   "metadata": {
    "collapsed": true
   },
   "outputs": [],
   "source": []
  }
 ],
 "metadata": {
  "kernelspec": {
   "display_name": "Python 3",
   "language": "python",
   "name": "python3"
  },
  "language_info": {
   "codemirror_mode": {
    "name": "ipython",
    "version": 3
   },
   "file_extension": ".py",
   "mimetype": "text/x-python",
   "name": "python",
   "nbconvert_exporter": "python",
   "pygments_lexer": "ipython3",
   "version": "3.6.2"
  }
 },
 "nbformat": 4,
 "nbformat_minor": 2
}
